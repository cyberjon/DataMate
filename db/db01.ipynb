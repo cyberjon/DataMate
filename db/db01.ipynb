{
 "cells": [
  {
   "cell_type": "code",
   "execution_count": 1,
   "metadata": {},
   "outputs": [],
   "source": [
    "# dependencies\n",
    "import ast          # new library: abstract syntax trees!\n",
    "import pandas as pd\n",
    "import pymongo\n",
    "import re           # new library: regex!"
   ]
  },
  {
   "cell_type": "code",
   "execution_count": 2,
   "metadata": {},
   "outputs": [],
   "source": [
    "# list of boring words to exclude from word frequency counts\n",
    "lstBoring = ['--', 'a', 'am', 'an', 'and', 'are', 'as', 'at', 'b', 'be', 'but', \\\n",
    "             'by', 'c', 'd', 'e', 'for', 'how', 'if', 'in', 'into', 'is', 'it', \\\n",
    "             'it\\'s', 'its', 'just', 'm', 'n', 'no', 'not', 'o', 'of', 'oh', 'on', \\\n",
    "             'or', 'out', 'r', 's', 'so', 't', 'that', 'that\\'s', 'the', 'than', \\\n",
    "             'them', 'then', 'to', 'too', 'w', 'was', 'where', 'while', 'who', 'with', 'y']"
   ]
  },
  {
   "cell_type": "code",
   "execution_count": 3,
   "metadata": {},
   "outputs": [],
   "source": [
    "# connect to mongo database \"DataMate\"\n",
    "conn = 'mongodb://localhost:27017'\n",
    "cli = pymongo.MongoClient(conn)\n",
    "db = cli.DataMate"
   ]
  },
  {
   "cell_type": "code",
   "execution_count": 4,
   "metadata": {},
   "outputs": [],
   "source": [
    "# read JSON from file. was \"test_output.txt\", is now \"pof_output.txt\"\n",
    "# encoding was \"utf-8\", is now \"cp1252\"\n",
    "strPath = \"../scraping/pof_output.txt\"\n",
    "with open(strPath, 'r', encoding = 'cp1252') as file:\n",
    "    strFile = file.read()\n",
    "    dictProfile = ast.literal_eval(strFile)"
   ]
  },
  {
   "cell_type": "code",
   "execution_count": 5,
   "metadata": {},
   "outputs": [
    {
     "data": {
      "text/plain": [
       "<pymongo.results.InsertManyResult at 0x1db8462fc48>"
      ]
     },
     "execution_count": 5,
     "metadata": {},
     "output_type": "execute_result"
    }
   ],
   "source": [
    "# write Profiles to DataMate db table \"Profile\"\n",
    "db.Profile.insert_many([dictProfile])"
   ]
  },
  {
   "cell_type": "code",
   "execution_count": 6,
   "metadata": {},
   "outputs": [],
   "source": [
    "# MakeWordFreqDf() makes a dataframe that counts word frequency\n",
    "# JSON looks like this:\n",
    "#   {'match_0':{'username':'bob', 'hair':'blond', 'attr':'etc'},\n",
    "#    'match_1':{'username':'sam', 'hair':'brown', 'attr':'etc'}}\n",
    "def MakeWordFreqDf(dictSource, strAttr, fBreakChunks = False):\n",
    "    dictResult = {}\n",
    "    for strKey, dictVal in dictSource.items(): \n",
    "        if(strKey != '_id'):\n",
    "            for strChunk in dictVal[strAttr]:\n",
    "                dictResult = CountWords(strChunk.lower(), dictResult, fBreakChunks)\n",
    "    df = pd.DataFrame.from_dict(dictResult, orient='index', columns=['count'])\n",
    "    df = df.sort_values(['count'], ascending=False)\n",
    "    df = DropBoringWords(df, lstBoring)\n",
    "    df.to_csv(strAttr + '.csv', index = True, header = True)\n",
    "    return df"
   ]
  },
  {
   "cell_type": "code",
   "execution_count": 7,
   "metadata": {},
   "outputs": [],
   "source": [
    "# CountWords() breaks multi-word chunk (eg, \"hi...let's\") into words (eg, \"hi\" and \"let's\")\n",
    "def CountWords(strChunk, dict, fBreakChunks = False):\n",
    "    # split on all chars except letters, numbers, apostrophes, and hyphens\n",
    "    if fBreakChunks:\n",
    "        lst = re.split(r\"[^a-zA-Z0-9'\\-]+\", strChunk)\n",
    "    else:\n",
    "        lst = [strChunk]\n",
    "    for strWord in lst:\n",
    "        if len(strWord) > 0:\n",
    "            if strWord in dict:    # have we already logged this word?\n",
    "                dict[strWord] += 1 # if yes: increment word's count\n",
    "            else:\n",
    "                dict[strWord] = 1  # if no: add row to dict\n",
    "    return dict"
   ]
  },
  {
   "cell_type": "code",
   "execution_count": 8,
   "metadata": {},
   "outputs": [],
   "source": [
    "# DropBoringWords() drops list of boring words from dataframe\n",
    "def DropBoringWords(df, lst):\n",
    "    strLack = ', '\n",
    "    for strWord in lst:\n",
    "        try:\n",
    "            df = df.drop([strWord])\n",
    "        except Exception as e:\n",
    "            strLack = strLack + strWord + ', ' \n",
    "    if strLack == ', ':\n",
    "        print('Dataframe had all the boring words. No longer.')\n",
    "    else:\n",
    "        print(f'Dataframe lacked the boring words {strLack[2:-2]}.')\n",
    "    return df"
   ]
  },
  {
   "cell_type": "code",
   "execution_count": 9,
   "metadata": {},
   "outputs": [
    {
     "name": "stdout",
     "output_type": "stream",
     "text": [
      "Dataframe had all the boring words. No longer.\n"
     ]
    }
   ],
   "source": [
    "# make word-frequency dataframe from parsed \"About Me\" field\n",
    "dfAboutMe = MakeWordFreqDf(dictProfile, 'about_me_split', True)"
   ]
  },
  {
   "cell_type": "code",
   "execution_count": 10,
   "metadata": {},
   "outputs": [
    {
     "name": "stdout",
     "output_type": "stream",
     "text": [
      "Dataframe lacked the boring words --, a, am, an, and, are, as, at, b, be, but, by, c, d, for, how, if, in, into, is, it, it's, its, just, m, no, not, of, oh, on, or, out, r, s, so, t, that, that's, the, than, them, then, to, too, w, was, where, while, who, with, y.\n"
     ]
    }
   ],
   "source": [
    "# make word-frequency dataframe from parsed \"About Me\" field\n",
    "dfInterest = MakeWordFreqDf(dictProfile, 'interests', False)"
   ]
  }
 ],
 "metadata": {
  "kernelspec": {
   "display_name": "Python 3",
   "language": "python",
   "name": "python3"
  },
  "language_info": {
   "codemirror_mode": {
    "name": "ipython",
    "version": 3
   },
   "file_extension": ".py",
   "mimetype": "text/x-python",
   "name": "python",
   "nbconvert_exporter": "python",
   "pygments_lexer": "ipython3",
   "version": "3.7.3"
  }
 },
 "nbformat": 4,
 "nbformat_minor": 2
}
