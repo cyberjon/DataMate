{
 "cells": [
  {
   "cell_type": "code",
   "execution_count": 1,
   "metadata": {},
   "outputs": [],
   "source": [
    "# dependencies\n",
    "import ast          # new library: abstract syntax trees!\n",
    "import numpy as np\n",
    "import pandas as pd\n",
    "import pymongo\n",
    "import re           # new library: regex!"
   ]
  },
  {
   "cell_type": "code",
   "execution_count": 2,
   "metadata": {},
   "outputs": [],
   "source": [
    "# list of boring words to exclude from word frequency counts\n",
    "lstBoring = ['--', 'a', 'am', 'an', 'and', 'are', 'as', 'at', 'b', 'be', 'but', \\\n",
    "             'by', 'c', 'd', 'e', 'for', 'how', 'if', 'in', 'into', 'is', 'it', \\\n",
    "             'it\\'s', 'its', 'just', 'm', 'n', 'no', 'not', 'o', 'of', 'oh', 'on', \\\n",
    "             'or', 'out', 'r', 's', 'so', 't', 'that', 'that\\'s', 'the', 'than', \\\n",
    "             'them', 'then', 'to', 'too', 'w', 'was', 'where', 'while', 'who', 'with', 'y']"
   ]
  },
  {
   "cell_type": "code",
   "execution_count": 3,
   "metadata": {},
   "outputs": [],
   "source": [
    "# connect to mongo database \"DataMate\"\n",
    "conn = 'mongodb://localhost:27017'\n",
    "cli = pymongo.MongoClient(conn)\n",
    "db = cli.DataMate"
   ]
  },
  {
   "cell_type": "code",
   "execution_count": 4,
   "metadata": {},
   "outputs": [],
   "source": [
    "# read JSON from file. was \"test_output.txt\", is now \"pof_output.txt\"\n",
    "# encoding was \"utf-8\", is now \"cp1252\"\n",
    "strPath = \"../scraping/pof_output.txt\"\n",
    "with open(strPath, 'r', encoding = 'cp1252') as file:\n",
    "    strFile = file.read()\n",
    "    dictProfile = ast.literal_eval(strFile)"
   ]
  },
  {
   "cell_type": "code",
   "execution_count": 5,
   "metadata": {},
   "outputs": [],
   "source": [
    "# write Profiles to DataMate db collection \"Profile\"\n",
    "for strKey, dictVal in dictProfile.items():\n",
    "    if(strKey != '_id'):\n",
    "        db.Profile.insert_one(dictVal)"
   ]
  },
  {
   "cell_type": "code",
   "execution_count": 6,
   "metadata": {},
   "outputs": [],
   "source": [
    "# MakeWordFreqDf() makes a dataframe that totals word frequency across\n",
    "# all rows for a specified list (eg, \"interests\")\n",
    "# JSON looks like this:\n",
    "#   {'match_0':{'username':'bob', 'hair':'blond', 'interests':['etc1', 'etc2']},\n",
    "#    'match_1':{'username':'sam', 'hair':'brown', 'interests':['etc3', 'etc4']}\n",
    "def MakeWordFreqDf(dictSource, strListName, fBreakChunks = False):\n",
    "    # count words\n",
    "    dictResult = {}\n",
    "    for strKey, dictVal in dictSource.items(): # for each Profile in JSON\n",
    "        if(strKey != '_id'):\n",
    "            for strChunk in dictVal[strListName]:  # for each \n",
    "                dictResult = CountWords(strChunk.lower(), dictResult, fBreakChunks)\n",
    "    # change dictResult into sorted dataframe\n",
    "    df = pd.DataFrame.from_dict(dictResult, orient='index', columns=['count'])\n",
    "    df = df.sort_values(['count'], ascending=False)\n",
    "    # drop boring words and save as CSV\n",
    "    df = DropBoringWords(df, lstBoring, strListName)\n",
    "    df.to_csv(strListName + '.csv', index = True, header = True)\n",
    "    print(f'• File \"{strListName}.csv\" saved')\n",
    "    return df"
   ]
  },
  {
   "cell_type": "code",
   "execution_count": 7,
   "metadata": {},
   "outputs": [],
   "source": [
    "# CountWords() \n",
    "def CountWords(strChunk, dict, fBreakChunks = False):\n",
    "    # if fBreakChunks is true, break multi-word chunk (eg, \"hi...let's\") into \n",
    "    # words (eg, \"hi\" and \"let's\"). regex will split on all chars except letters, \n",
    "    # numbers, apostrophes, and hyphens\n",
    "    if fBreakChunks:\n",
    "        lst = re.split(r\"[^a-zA-Z0-9'\\-]+\", strChunk)\n",
    "    else:\n",
    "        lst = [strChunk]\n",
    "    for strWord in lst:\n",
    "        if len(strWord) > 0:\n",
    "            if strWord in dict:    # have we already logged this word?\n",
    "                dict[strWord] += 1 # if yes: increment word's count\n",
    "            else:\n",
    "                dict[strWord] = 1  # if no: add row to dict\n",
    "    return dict"
   ]
  },
  {
   "cell_type": "code",
   "execution_count": 8,
   "metadata": {},
   "outputs": [],
   "source": [
    "# DropBoringWords() drops list of boring words from dataframe\n",
    "def DropBoringWords(df, lst, strName):\n",
    "    strLack = ', '\n",
    "    for strWord in lst:\n",
    "        try:\n",
    "            df = df.drop([strWord])\n",
    "        except Exception as e:\n",
    "            strLack = strLack + strWord + ', ' \n",
    "    if strLack == ', ':\n",
    "        print(f'• Dataframe \"{strName}\" had all the boring words. No longer.')\n",
    "    else:\n",
    "        print(f'• Dataframe \"{strName}\" lacked the boring words {strLack[2:-2]}.')\n",
    "    return df"
   ]
  },
  {
   "cell_type": "code",
   "execution_count": 9,
   "metadata": {},
   "outputs": [
    {
     "name": "stdout",
     "output_type": "stream",
     "text": [
      "• Dataframe \"about_me_split\" had all the boring words. No longer.\n",
      "• File \"about_me_split.csv\" saved\n",
      "• Dataframe \"interests\" lacked the boring words --, a, am, an, and, are, as, at, b, be, but, by, c, d, for, how, if, in, into, is, it, it's, its, just, m, no, not, of, oh, on, or, out, r, s, so, t, that, that's, the, than, them, then, to, too, w, was, where, while, who, with, y.\n",
      "• File \"interests.csv\" saved\n"
     ]
    }
   ],
   "source": [
    "# make word-frequency dataframe from parsed \"About Me\" field and \"Interests\" field\n",
    "dfAboutMeSplit = MakeWordFreqDf(dictProfile, 'about_me_split', True)\n",
    "dfInterests = MakeWordFreqDf(dictProfile, 'interests', False)"
   ]
  },
  {
   "cell_type": "code",
   "execution_count": 10,
   "metadata": {},
   "outputs": [],
   "source": [
    "# query Mongo grouping by CHEP\n",
    "dictGrpCHEP = {\"$group\":\n",
    "               {\"_id\":\n",
    "                {\"city\":\"$profile_info_1.City\",\n",
    "                 \"hair\":\"$profile_info_2.Hair Color\",\n",
    "                 \"eyes\":\"$profile_info_2.Eye Color\",\n",
    "                 \"pets\":\"$profile_info_2.Pets\"},\n",
    "                \"count\":{\"$sum\":1}}}\n",
    "cursor = db.Profile.aggregate([dictGrpCHEP])"
   ]
  },
  {
   "cell_type": "code",
   "execution_count": 11,
   "metadata": {},
   "outputs": [],
   "source": [
    "# populate dfCHEP from Mongo results\n",
    "dfCHEP = pd.DataFrame(columns=['city', 'hair', 'eyes', 'pets'])\n",
    "lst = [] # https://stackoverflow.com/a/17496530/8422614\n",
    "for row in cursor:\n",
    "    lst.append(row[\"_id\"])\n",
    "dfCHEP = pd.DataFrame(lst)"
   ]
  },
  {
   "cell_type": "code",
   "execution_count": 12,
   "metadata": {},
   "outputs": [],
   "source": [
    "# create dfSHEP, replacing city field with state field\n",
    "dfSHEP = dfCHEP\n",
    "dfSHEP['state'] = dfCHEP['city'].str.replace('.*, ', '')\n",
    "dfSHEP = dfSHEP.drop('city', axis=1)\n",
    "dfSHEP = dfSHEP.fillna(value = {'pets': 'No Pets'})\n",
    "dfSHEP['count'] = 1"
   ]
  },
  {
   "cell_type": "code",
   "execution_count": 13,
   "metadata": {},
   "outputs": [],
   "source": [
    "# create group & dfSumm: S\n",
    "grpS = dfSHEP.groupby(['state'])\n",
    "dfSummS = grpS.sum()\n",
    "dfSummS = dfSummS.reset_index()"
   ]
  },
  {
   "cell_type": "code",
   "execution_count": 14,
   "metadata": {},
   "outputs": [],
   "source": [
    "# MakeSumm() makes a Summary table that shows percentages across the state\n",
    "def MakeSumm(dfIn, lstFld):\n",
    "    grp = dfIn.groupby(lstFld)\n",
    "    dfOut = grp.sum()\n",
    "    dfOut = dfOut.reset_index()\n",
    "    dfOut = pd.merge(dfOut, dfSummS, on='state')\n",
    "    dfOut['pct'] = dfOut['count_x'] / dfOut['count_y']\n",
    "    dfOut = dfOut.rename(columns={'count_x':'rowcount', 'count_y':'statecount'})\n",
    "    strFile = 'Summ_' + '_'.join(lstFld) + '.csv'\n",
    "    dfOut.to_csv(strFile, index = True, header = True)\n",
    "    print(f'• {strFile} saved.')\n",
    "    return dfOut"
   ]
  },
  {
   "cell_type": "code",
   "execution_count": 15,
   "metadata": {},
   "outputs": [
    {
     "name": "stdout",
     "output_type": "stream",
     "text": [
      "• Summ_state_hair.csv saved.\n",
      "• Summ_state_eyes.csv saved.\n",
      "• Summ_state_pets.csv saved.\n",
      "• Summ_state_hair_eyes_pets.csv saved.\n"
     ]
    }
   ],
   "source": [
    "# create group & dfSumm: S+H\n",
    "dfSummSH = MakeSumm(dfSHEP, ['state', 'hair'])\n",
    "# create group & df: S+E\n",
    "dfSummSE = MakeSumm(dfSHEP, ['state', 'eyes'])\n",
    "# create group & df: S+P\n",
    "dfSummSP = MakeSumm(dfSHEP, ['state', 'pets'])\n",
    "# create group & df: S+H+E+P\n",
    "dfSummSHEP = MakeSumm(dfSHEP, ['state', 'hair', 'eyes', 'pets'])"
   ]
  }
 ],
 "metadata": {
  "kernelspec": {
   "display_name": "Python 3",
   "language": "python",
   "name": "python3"
  },
  "language_info": {
   "codemirror_mode": {
    "name": "ipython",
    "version": 3
   },
   "file_extension": ".py",
   "mimetype": "text/x-python",
   "name": "python",
   "nbconvert_exporter": "python",
   "pygments_lexer": "ipython3",
   "version": "3.7.3"
  }
 },
 "nbformat": 4,
 "nbformat_minor": 2
}
