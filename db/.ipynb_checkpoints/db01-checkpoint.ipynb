{
 "cells": [
  {
   "cell_type": "code",
   "execution_count": 1,
   "metadata": {},
   "outputs": [],
   "source": [
    "# dependencies\n",
    "import ast          # new library: abstract syntax trees!\n",
    "import pandas as pd\n",
    "import pymongo\n",
    "import re           # new library: regex!"
   ]
  },
  {
   "cell_type": "code",
   "execution_count": 2,
   "metadata": {},
   "outputs": [],
   "source": [
    "# list of boring words to exclude from word frequency counts\n",
    "lstBoring = ['--', 'a', 'am', 'an', 'and', 'are', 'as', 'at', 'b', 'be', 'but', \\\n",
    "             'by', 'c', 'd', 'e', 'for', 'how', 'if', 'in', 'into', 'is', 'it', \\\n",
    "             'it\\'s', 'its', 'just', 'm', 'n', 'no', 'not', 'o', 'of', 'oh', 'on', \\\n",
    "             'or', 'out', 'r', 's', 'so', 't', 'that', 'that\\'s', 'the', 'than', \\\n",
    "             'them', 'then', 'to', 'too', 'w', 'was', 'where', 'while', 'who', 'with', 'y']"
   ]
  },
  {
   "cell_type": "code",
   "execution_count": 3,
   "metadata": {},
   "outputs": [],
   "source": [
    "# connect to mongo database \"DataMate\"\n",
    "conn = 'mongodb://localhost:27017'\n",
    "cli = pymongo.MongoClient(conn)\n",
    "db = cli.DataMate"
   ]
  },
  {
   "cell_type": "code",
   "execution_count": 4,
   "metadata": {},
   "outputs": [],
   "source": [
    "# read JSON from file. \"pof_output.txt\" encoding is Windows-style \"cp1252\"\n",
    "strPath = \"../scraping/pof_output.txt\"\n",
    "with open(strPath, 'r', encoding = 'cp1252') as file:\n",
    "    strFile = file.read()\n",
    "    dictProfile = ast.literal_eval(strFile)"
   ]
  },
  {
   "cell_type": "code",
   "execution_count": 5,
   "metadata": {},
   "outputs": [],
   "source": [
    "# write Profiles to DataMate db collection \"Profile\"\n",
    "for strKey, dictVal in dictProfile.items():\n",
    "    if(strKey != '_id'):\n",
    "        db.Profile.insert_one(dictVal)"
   ]
  },
  {
   "cell_type": "code",
   "execution_count": 6,
   "metadata": {},
   "outputs": [],
   "source": [
    "# AddFieldsFromDictCol() converts one dictionary-style column into multiple discrete columns\n",
    "def AddFieldsFromDictCol(df, strDictCol):\n",
    "    dfTemp = df[strDictCol].apply(pd.Series) # .apply(pd.Series) is my favorite method EVER\n",
    "    for strCol in dfTemp.columns:\n",
    "        if strCol.strip() not in df.columns:\n",
    "            df[strCol.strip()] = dfTemp[strCol]\n",
    "    return df"
   ]
  },
  {
   "cell_type": "code",
   "execution_count": 7,
   "metadata": {},
   "outputs": [],
   "source": [
    "# dump all fields to dataframe\n",
    "lstCol = ['_id', 'username', 'headline', 'profile_info_1', 'profile_info_2', 'interests', 'about_me_text']\n",
    "dfAll = pd.DataFrame.from_dict(dictProfile, orient = 'index', columns = lstCol)\n",
    "# convert dictionary-style columns to discrete columns and drop the dictionary columns\n",
    "for strCol in ['profile_info_1', 'profile_info_2']:\n",
    "    dfAll = AddFieldsFromDictCol(dfAll, strCol)\n",
    "    dfAll = dfAll.drop(strCol, axis=1)\n",
    "# dump all recs lacking basic Details entry (eg: 66 year old Male, 5' 10\" (178cm), Christian - other)\n",
    "dfAll = dfAll.dropna(subset=['Details'], thresh = 1)\n",
    "# handle NaNs\n",
    "dfAll['Pets'] = dfAll['Pets'].fillna('No Pets')"
   ]
  },
  {
   "cell_type": "code",
   "execution_count": 8,
   "metadata": {},
   "outputs": [],
   "source": [
    "# build new fields from existing data\n",
    "dfAll['Age'] = dfAll['Details'].str.strip().str[0:2].astype('int')\n",
    "dfAll['Gender'] = dfAll['Details'].str.strip().str[12:13]\n",
    "dfAll['Zodiac Sign'] = dfAll['Ethnicity'].str.split(', ').str[1]\n",
    "dfAll['Ethnicity'] = dfAll['Ethnicity'].str.split(', ').str[0]"
   ]
  },
  {
   "cell_type": "code",
   "execution_count": 9,
   "metadata": {},
   "outputs": [],
   "source": [
    "# export all data to CSV\n",
    "dfAll.to_csv('all.csv')"
   ]
  },
  {
   "cell_type": "code",
   "execution_count": 10,
   "metadata": {},
   "outputs": [],
   "source": [
    "# SaveBuckets() creates bucketed CSVs\n",
    "def SaveBuckets(strFldNm, strFileNm):\n",
    "    grp = dfAll.groupby([strFileNm])\n",
    "    df = grp.count()\n",
    "    df = df[['_id']]\n",
    "    df.index.names = [strFldNm.lower()]\n",
    "    df = df.rename(columns = {'_id':'count'})\n",
    "    print(df)\n",
    "    df.to_csv(strFileNm + '.csv')"
   ]
  },
  {
   "cell_type": "code",
   "execution_count": 11,
   "metadata": {},
   "outputs": [
    {
     "name": "stdout",
     "output_type": "stream",
     "text": [
      "       count\n",
      "age         \n",
      "<20        0\n",
      "20-29     12\n",
      "30-39     20\n",
      "40-49      5\n",
      "50-59    548\n",
      "60-69    367\n",
      "70-79     54\n",
      "80-89      1\n",
      "90+        0\n"
     ]
    }
   ],
   "source": [
    "# bucket and save: Age\n",
    "lstBin = [0, 20, 30, 40, 50, 60, 70, 80, 90, 10000]\n",
    "lstLbl = ['<20', '20-29', '30-39', '40-49', '50-59', '60-69', '70-79', '80-89', '90+']\n",
    "dfAll['Summ_age'] = pd.cut(dfAll['Age'], lstBin, labels = lstLbl)\n",
    "SaveBuckets('Age', 'Summ_age')"
   ]
  },
  {
   "cell_type": "code",
   "execution_count": 12,
   "metadata": {},
   "outputs": [
    {
     "name": "stdout",
     "output_type": "stream",
     "text": [
      "                            count\n",
      "ethnicity                        \n",
      "ethnicity: asian                8\n",
      "ethnicity: black               79\n",
      "ethnicity: caucasian          725\n",
      "ethnicity: hispanic           138\n",
      "ethnicity: indian               1\n",
      "ethnicity: middle eastern       1\n",
      "ethnicity: mixed race          26\n",
      "ethnicity: native american     10\n",
      "ethnicity: other ethnicity     19\n"
     ]
    }
   ],
   "source": [
    "# bucket and save: Ethnicity\n",
    "dfAll['Summ_ethnicity'] = 'ethnicity: ' + dfAll['Ethnicity'].astype('str').str.lower()\n",
    "SaveBuckets('Ethnicity', 'Summ_ethnicity')"
   ]
  },
  {
   "cell_type": "code",
   "execution_count": 13,
   "metadata": {},
   "outputs": [
    {
     "name": "stdout",
     "output_type": "stream",
     "text": [
      "           count\n",
      "gender          \n",
      "gender:        1\n",
      "gender: m   1006\n"
     ]
    }
   ],
   "source": [
    "# bucket and save: Gender\n",
    "dfAll['Summ_gender'] = 'gender: ' + dfAll['Gender'].astype('str').str.lower()\n",
    "SaveBuckets('Gender', 'Summ_gender')"
   ]
  },
  {
   "cell_type": "code",
   "execution_count": 14,
   "metadata": {},
   "outputs": [
    {
     "name": "stdout",
     "output_type": "stream",
     "text": [
      "           count\n",
      "pets            \n",
      "birds         11\n",
      "cat           79\n",
      "cat & dog     38\n",
      "dog          249\n",
      "no pets      608\n",
      "other         22\n"
     ]
    }
   ],
   "source": [
    "# bucket and save: Pets\n",
    "dfAll['Summ_pets'] = dfAll['Pets'].astype('str').str.lower().str.strip()\n",
    "SaveBuckets('Pets', 'Summ_pets')"
   ]
  },
  {
   "cell_type": "code",
   "execution_count": 15,
   "metadata": {},
   "outputs": [
    {
     "name": "stdout",
     "output_type": "stream",
     "text": [
      "             count\n",
      "zodiac sign       \n",
      "aquarius        98\n",
      "aries           70\n",
      "cancer          98\n",
      "capricorn      108\n",
      "gemini          82\n",
      "leo             78\n",
      "libra           71\n",
      "pisces          76\n",
      "sagittarius     73\n",
      "scorpio         80\n",
      "taurus          84\n",
      "virgo           89\n"
     ]
    }
   ],
   "source": [
    "# bucket and save: Zodiac Sign\n",
    "dfAll['Summ_zodiac'] = dfAll['Zodiac Sign'].astype('str').str.lower().str.strip()\n",
    "SaveBuckets('Zodiac Sign', 'Summ_zodiac')"
   ]
  },
  {
   "cell_type": "code",
   "execution_count": 16,
   "metadata": {},
   "outputs": [],
   "source": [
    "# MakeWordFreqDf() makes a dataframe that totals word frequency\n",
    "# of an embedded list (eg, \"about_me_split\" or \"interests\")\n",
    "# JSON looks sort of like this:\n",
    "#   {'match_0':{'username':'bob', 'hair':'blond', 'interests':['etc1', 'etc2']},\n",
    "#    'match_1':{'username':'sam', 'hair':'brown', 'interests':['etc3', 'etc4']}\n",
    "def MakeWordFreqDf(dictSource, strListName, fBreakChunks = False):\n",
    "    # count words\n",
    "    dictResult = {}\n",
    "    for strKey, dictVal in dictSource.items():     # for each Profile in JSON\n",
    "        if(strKey != '_id'):\n",
    "            for strChunk in dictVal[strListName]:  # for each word-chunk in list\n",
    "                dictResult = CountWords(strChunk.lower(), dictResult, fBreakChunks)\n",
    "    # change dictResult into sorted dataframe\n",
    "    df = pd.DataFrame.from_dict(dictResult, orient = 'index', columns = ['count'])\n",
    "    df = df.sort_values(['count'], ascending=False)\n",
    "    # drop boring words and save as CSV\n",
    "    df = DropBoringWords(df, lstBoring, strListName)\n",
    "    df.to_csv(strListName + '.csv', index = True, header = True)\n",
    "    print(f'• File \"{strListName}.csv\" saved')\n",
    "    return df"
   ]
  },
  {
   "cell_type": "code",
   "execution_count": 17,
   "metadata": {},
   "outputs": [],
   "source": [
    "# CountWords() \n",
    "def CountWords(strChunk, dict, fBreakChunks = False):\n",
    "    # if fBreakChunks is true, break multi-word chunk (eg, \"hi...let's\") into \n",
    "    # words (eg, \"hi\" and \"let's\"). regex will split on all chars except letters, \n",
    "    # numbers, apostrophes, and hyphens\n",
    "    if fBreakChunks:\n",
    "        lst = re.split(r\"[^a-zA-Z0-9'\\-]+\", strChunk)\n",
    "    else:\n",
    "        lst = [strChunk]\n",
    "    for strWord in lst:\n",
    "        if len(strWord) > 0:\n",
    "            if strWord in dict:    # have we already logged this word?\n",
    "                dict[strWord] += 1 # if yes: increment word's count\n",
    "            else:\n",
    "                dict[strWord] = 1  # if no: add row to dict\n",
    "    return dict"
   ]
  },
  {
   "cell_type": "code",
   "execution_count": 18,
   "metadata": {},
   "outputs": [],
   "source": [
    "# DropBoringWords() drops list of boring words from dataframe\n",
    "def DropBoringWords(df, lst, strName):\n",
    "    strLack = ', '\n",
    "    for strWord in lst:\n",
    "        try:\n",
    "            df = df.drop([strWord])\n",
    "        except Exception as e:\n",
    "            strLack = strLack + strWord + ', ' \n",
    "    if strLack == ', ':\n",
    "        print(f'• Dataframe \"{strName}\" had all the boring words. No longer.')\n",
    "    else:\n",
    "        print(f'• Dataframe \"{strName}\" lacked the boring words {strLack[2:-2]}.')\n",
    "    return df"
   ]
  },
  {
   "cell_type": "code",
   "execution_count": 19,
   "metadata": {},
   "outputs": [
    {
     "name": "stdout",
     "output_type": "stream",
     "text": [
      "• Dataframe \"about_me_split\" had all the boring words. No longer.\n",
      "• File \"about_me_split.csv\" saved\n",
      "• Dataframe \"interests\" lacked the boring words --, a, am, an, and, are, as, at, b, be, but, by, c, d, for, how, if, in, into, is, it, it's, its, just, m, no, not, of, oh, on, or, out, r, s, so, t, that, that's, the, than, them, then, to, too, w, was, where, while, who, with, y.\n",
      "• File \"interests.csv\" saved\n"
     ]
    }
   ],
   "source": [
    "# make word-frequency dataframes from parsed \"About Me\" field and \"Interests\" field\n",
    "dfAboutMeSplit = MakeWordFreqDf(dictProfile, 'about_me_split', True)\n",
    "dfInterests = MakeWordFreqDf(dictProfile, 'interests', False)"
   ]
  },
  {
   "cell_type": "code",
   "execution_count": 20,
   "metadata": {},
   "outputs": [],
   "source": [
    "# query Mongo grouping by CHEP (City+Hair+Eyes+Pets)\n",
    "dictGrpCHEP = {\"$group\":\n",
    "               {\"_id\":\n",
    "                {\"city\":\"$profile_info_1.City\",\n",
    "                 \"hair\":\"$profile_info_2.Hair Color\",\n",
    "                 \"eyes\":\"$profile_info_2.Eye Color\",\n",
    "                 \"pets\":\"$profile_info_2.Pets\"},\n",
    "                \"count\":{\"$sum\":1}}}\n",
    "cursor = db.Profile.aggregate([dictGrpCHEP])"
   ]
  },
  {
   "cell_type": "code",
   "execution_count": 21,
   "metadata": {},
   "outputs": [],
   "source": [
    "# populate dfCHEP from Mongo results (https://stackoverflow.com/a/17496530/8422614)\n",
    "dfCHEP = pd.DataFrame(columns=['city', 'hair', 'eyes', 'pets'])\n",
    "lst = [] \n",
    "for row in cursor:\n",
    "    lst.append(row[\"_id\"])\n",
    "dfCHEP = pd.DataFrame(lst)\n",
    "# trim whitespace\n",
    "for strCol in dfCHEP.columns:\n",
    "    dfCHEP[strCol] = dfCHEP[strCol].str.strip()"
   ]
  },
  {
   "cell_type": "code",
   "execution_count": 22,
   "metadata": {},
   "outputs": [],
   "source": [
    "# create dfSHEP, replacing city field with state field\n",
    "dfSHEP = dfCHEP\n",
    "dfSHEP['state'] = dfCHEP['city'].str.replace('.*, ', '').str.strip()\n",
    "dfSHEP = dfSHEP.drop('city', axis = 1)\n",
    "dfSHEP = dfSHEP.fillna(value = {'pets':'No Pets'})\n",
    "dfSHEP['count'] = 1"
   ]
  },
  {
   "cell_type": "code",
   "execution_count": 23,
   "metadata": {},
   "outputs": [],
   "source": [
    "# create group & dfSumm: State only\n",
    "grpS = dfSHEP.groupby(['state'])\n",
    "dfSummS = grpS.sum()\n",
    "dfSummS = dfSummS.reset_index()"
   ]
  },
  {
   "cell_type": "code",
   "execution_count": 24,
   "metadata": {},
   "outputs": [],
   "source": [
    "# MakeSumm() makes a Summary table that computes percentages across the state\n",
    "def MakeSumm(dfIn, lstFld):\n",
    "    grp = dfIn.groupby(lstFld)\n",
    "    dfOut = grp.sum()\n",
    "    dfOut = dfOut.reset_index()\n",
    "    dfOut = pd.merge(dfOut, dfSummS, on = 'state')\n",
    "    dfOut['pct'] = dfOut['count_x'] / dfOut['count_y']\n",
    "    dfOut = dfOut.rename(columns = {'count_x':'rowcount', 'count_y':'statecount'})\n",
    "    strFile = 'Summ_' + '_'.join(lstFld) + '.csv'\n",
    "    dfOut.to_csv(strFile, index = True, header = True)\n",
    "    print(f'• {strFile} saved.')\n",
    "    return dfOut"
   ]
  },
  {
   "cell_type": "code",
   "execution_count": 25,
   "metadata": {},
   "outputs": [
    {
     "name": "stdout",
     "output_type": "stream",
     "text": [
      "• Summ_state_hair.csv saved.\n",
      "• Summ_state_eyes.csv saved.\n",
      "• Summ_state_pets.csv saved.\n",
      "• Summ_state_hair_eyes_pets.csv saved.\n"
     ]
    }
   ],
   "source": [
    "# create Summary dataframe: S+H\n",
    "dfSummSH = MakeSumm(dfSHEP, ['state', 'hair'])\n",
    "# create Summary dataframe: S+E\n",
    "dfSummSE = MakeSumm(dfSHEP, ['state', 'eyes'])\n",
    "# create Summary dataframe: S+P\n",
    "dfSummSP = MakeSumm(dfSHEP, ['state', 'pets'])\n",
    "# create Summary dataframe: S+H+E+P\n",
    "dfSummSHEP = MakeSumm(dfSHEP, ['state', 'hair', 'eyes', 'pets'])"
   ]
  }
 ],
 "metadata": {
  "kernelspec": {
   "display_name": "Python 3",
   "language": "python",
   "name": "python3"
  },
  "language_info": {
   "codemirror_mode": {
    "name": "ipython",
    "version": 3
   },
   "file_extension": ".py",
   "mimetype": "text/x-python",
   "name": "python",
   "nbconvert_exporter": "python",
   "pygments_lexer": "ipython3",
   "version": "3.7.3"
  }
 },
 "nbformat": 4,
 "nbformat_minor": 2
}
