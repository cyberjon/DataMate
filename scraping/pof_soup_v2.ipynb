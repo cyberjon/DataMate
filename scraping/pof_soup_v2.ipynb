{
 "cells": [
  {
   "cell_type": "code",
   "execution_count": null,
   "metadata": {},
   "outputs": [],
   "source": [
    "from bs4 import BeautifulSoup as bs\n",
    "from lxml import html\n",
    "import requests\n",
    "import pymongo\n",
    "from splinter import Browser\n",
    "import time\n",
    "import pandas as pd\n",
    "import numpy as np\n"
   ]
  },
  {
   "cell_type": "markdown",
   "metadata": {},
   "source": [
    "## initialize browser and login"
   ]
  },
  {
   "cell_type": "code",
   "execution_count": null,
   "metadata": {},
   "outputs": [],
   "source": [
    "# initialize browser\n",
    "executable_path = {\"executable_path\": \"chromedriver.exe\"}\n",
    "browser = Browser(\"chrome\", **executable_path, headless=False)"
   ]
  },
  {
   "cell_type": "markdown",
   "metadata": {},
   "source": [
    "### insert profile_id # to search HERE"
   ]
  },
  {
   "cell_type": "code",
   "execution_count": null,
   "metadata": {},
   "outputs": [],
   "source": [
    "#define login url (need to add username and password) \n",
    "#define sites to visit after being logged in\n",
    "\n",
    "pof_login_url = 'https://login.pof.com'\n",
    "\n",
    "# update with new profile id here\n",
    "pof_url = 'https://www.pof.com/viewprofile.aspx?profile_id=76643805'\n",
    "\n",
    "# currently online url\n",
    "pof_online = 'https://www.pof.com/everyoneonline.aspx'\n",
    "\n",
    "# base url\n",
    "pof_base = 'https://www.pof.com/'\n",
    "\n",
    "# base next_page\n",
    "pof_nextpage = 'everyoneonline.aspx?page_id='"
   ]
  },
  {
   "cell_type": "markdown",
   "metadata": {},
   "source": [
    "### input login credentials HERE"
   ]
  },
  {
   "cell_type": "code",
   "execution_count": null,
   "metadata": {},
   "outputs": [],
   "source": [
    "browser.visit(pof_login_url) #visit login page\n",
    "\n",
    "# add credentials\n",
    "browser.fill(\"username\", \"akela_1111\") \n",
    "browser.fill(\"password\", \"plentyoffish\")\n",
    "\n",
    "browser.click_link_by_id(\"logincontrol_submitbutton\") # click submit to enter credentials"
   ]
  },
  {
   "cell_type": "markdown",
   "metadata": {},
   "source": [
    "### Create list of profile ids/urls of who is currently online"
   ]
  },
  {
   "cell_type": "code",
   "execution_count": null,
   "metadata": {},
   "outputs": [],
   "source": [
    "browser.visit(pof_online) # everyone who is online - page 1"
   ]
  },
  {
   "cell_type": "code",
   "execution_count": null,
   "metadata": {
    "scrolled": true
   },
   "outputs": [],
   "source": [
    "count = 0\n",
    "profile_urls = []\n",
    "page = 2\n",
    "\n",
    "\n",
    "while len(profile_urls) < 75:\n",
    "    \n",
    "    html = browser.html\n",
    "    soup = bs(html, \"html.parser\")\n",
    "    \n",
    "    \n",
    "    online_results = soup.find_all(\"div\", class_=\"rc\")\n",
    "    \n",
    "    \n",
    "    \n",
    "    for info in online_results:\n",
    "        profile_page = pof_base + info.find('a')['href']\n",
    "        \n",
    "        if profile_page not in profile_urls:\n",
    "            \n",
    "            profile_urls.append(profile_page)\n",
    "            print(profile_page)\n",
    "            count += 1\n",
    "        else:\n",
    "            continue\n",
    "    \n",
    "    page += 1\n",
    "    new_page = pof_base + pof_nextpage + str(page)\n",
    "    browser.visit(new_page)\n",
    "\n"
   ]
  },
  {
   "cell_type": "code",
   "execution_count": null,
   "metadata": {},
   "outputs": [],
   "source": [
    "## visit each profile to scrape\n",
    "\n",
    "for url in profile_urls:\n",
    "    browser.visit(url)\n",
    "    \n",
    "    html = browser.html\n",
    "    soup = bs(html, \"html.parser\")"
   ]
  },
  {
   "cell_type": "code",
   "execution_count": null,
   "metadata": {},
   "outputs": [],
   "source": []
  },
  {
   "cell_type": "code",
   "execution_count": null,
   "metadata": {},
   "outputs": [],
   "source": [
    "profile_dict = {}  ## dictionary to save single profile data collected below"
   ]
  },
  {
   "cell_type": "markdown",
   "metadata": {},
   "source": [
    "## username and headline"
   ]
  },
  {
   "cell_type": "code",
   "execution_count": null,
   "metadata": {},
   "outputs": [],
   "source": [
    "# use bs and splinter to find username and headline\n",
    "user = soup.find(id = \"username\").text\n",
    "headline = soup.find(id = \"headline\").text\n",
    "\n",
    "print(user)\n",
    "print(headline)\n",
    "\n",
    "#add to dict\n",
    "profile_dict[\"username\"] = user\n",
    "profile_dict[\"headline\"] = headline"
   ]
  },
  {
   "cell_type": "markdown",
   "metadata": {},
   "source": [
    "## Info in profile table 1\n"
   ]
  },
  {
   "cell_type": "code",
   "execution_count": null,
   "metadata": {},
   "outputs": [],
   "source": [
    "# use bs and splinter to find first table of profile information\n",
    "# this is done in parts\n",
    "# part 1: find header names for first profile table\n",
    "\n",
    "about_head = soup.find_all(\"div\", class_= \"profileheadtitle\")\n",
    "headers = []\n",
    "for info in about_head:\n",
    "    headers.append(info.text.replace(\"\\n\", \"\"))\n",
    "headers"
   ]
  },
  {
   "cell_type": "code",
   "execution_count": null,
   "metadata": {},
   "outputs": [],
   "source": [
    "# part 2: find first half of content (left side of table)\n",
    "about_content_1 = soup.find_all(\"div\", class_=\"profileheadcontent\")\n",
    "content = []\n",
    "for info in about_content_1:\n",
    "    content.append(info.text.replace(\"\\n\\n\", \"\").replace(\"\\n\", \" \"))\n",
    "len(content)"
   ]
  },
  {
   "cell_type": "code",
   "execution_count": null,
   "metadata": {},
   "outputs": [],
   "source": [
    "# part 3: find 2nd half of content (right side of table)\n",
    "\n",
    "about_content_2 = soup.find_all(\"div\", class_=\"profileheadcontent-narrow\")\n",
    "content_2 = []\n",
    "for info in about_content_2:\n",
    "    content_2.append(info.text.replace(\"\\n\\n\", \"\").replace(\"\\n\", \" \"))\n",
    "len(content_2)"
   ]
  },
  {
   "cell_type": "code",
   "execution_count": null,
   "metadata": {},
   "outputs": [],
   "source": [
    "# part 4: combine both content into one list\n",
    "all_content = np.array([content, content_2])\n",
    "all_content_ordered = np.ravel(all_content, order = \"F\")\n",
    "all_content_ordered"
   ]
  },
  {
   "cell_type": "code",
   "execution_count": null,
   "metadata": {},
   "outputs": [],
   "source": [
    "# define dictionary to hold data in the first profile table. keys = header/title, value = content\n",
    "\n",
    "profile_info_1 = dict(zip(headers, all_content_ordered))\n",
    "profile_info_1"
   ]
  },
  {
   "cell_type": "code",
   "execution_count": null,
   "metadata": {},
   "outputs": [],
   "source": [
    "# add to dict\n",
    "profile_dict[\"profile_info_1\"] = profile_info_1"
   ]
  },
  {
   "cell_type": "markdown",
   "metadata": {},
   "source": [
    "## Info in profile table 2"
   ]
  },
  {
   "cell_type": "code",
   "execution_count": null,
   "metadata": {},
   "outputs": [],
   "source": [
    "about_head_2 = soup.find_all(\"span\", class_=\"headline\")\n",
    "\n",
    "headers_2 = []\n",
    "for i in range(9, 25):\n",
    "    headers_2.append(about_head_2[i].text.replace(\"\\n\",\"\"))\n",
    "    \n",
    "headers_2"
   ]
  },
  {
   "cell_type": "code",
   "execution_count": null,
   "metadata": {},
   "outputs": [],
   "source": [
    "about_content_3 = soup.find_all(\"table\")[1](\"span\", class_=\"txtGrey\")\n",
    "content_3 = []\n",
    "for info in about_content_3:\n",
    "    content_3.append(info.text.replace(\"\\n\", \"\"))\n",
    "content_3"
   ]
  },
  {
   "cell_type": "code",
   "execution_count": null,
   "metadata": {},
   "outputs": [],
   "source": [
    "profile_info_2 = dict(zip(headers_2, content_3))\n",
    "profile_info_2"
   ]
  },
  {
   "cell_type": "code",
   "execution_count": null,
   "metadata": {},
   "outputs": [],
   "source": [
    "# add to dict\n",
    "profile_dict[\"profile_info_2\"] = profile_info_2"
   ]
  },
  {
   "cell_type": "markdown",
   "metadata": {},
   "source": [
    "## Interests"
   ]
  },
  {
   "cell_type": "code",
   "execution_count": null,
   "metadata": {},
   "outputs": [],
   "source": [
    "# interests\n",
    "try:\n",
    "    interests = soup.find(id=\"interests\").text.split(\"\\n\")[1:4]\n",
    "except: \n",
    "    interests = \"None\"\n",
    "    print(\"No interests were entered\")\n",
    "\n",
    "interests"
   ]
  },
  {
   "cell_type": "code",
   "execution_count": null,
   "metadata": {},
   "outputs": [],
   "source": [
    "# add to dict\n",
    "profile_dict[\"interests\"] = interests"
   ]
  },
  {
   "cell_type": "markdown",
   "metadata": {},
   "source": [
    "## About Me"
   ]
  },
  {
   "cell_type": "code",
   "execution_count": null,
   "metadata": {},
   "outputs": [],
   "source": [
    "about_me = soup.find(id=\"description\").text.replace(\"\\n\", \"\")\n",
    "about_me_split = about_me.split(\" \")\n",
    "about_me_split\n"
   ]
  },
  {
   "cell_type": "code",
   "execution_count": null,
   "metadata": {},
   "outputs": [],
   "source": [
    "profile_dict[\"about_me_text\"] = about_me\n",
    "profile_dict[\"about_me_split\"] = about_me_split"
   ]
  },
  {
   "cell_type": "code",
   "execution_count": null,
   "metadata": {},
   "outputs": [],
   "source": [
    "#pd.read_html(pof_url) #403 error - Forbidden???"
   ]
  },
  {
   "cell_type": "markdown",
   "metadata": {},
   "source": [
    "## dictionary with data of profile_1"
   ]
  },
  {
   "cell_type": "code",
   "execution_count": null,
   "metadata": {},
   "outputs": [],
   "source": [
    "profile_dict"
   ]
  },
  {
   "cell_type": "code",
   "execution_count": null,
   "metadata": {},
   "outputs": [],
   "source": []
  }
 ],
 "metadata": {
  "kernelspec": {
   "display_name": "Python 3",
   "language": "python",
   "name": "python3"
  },
  "language_info": {
   "codemirror_mode": {
    "name": "ipython",
    "version": 3
   },
   "file_extension": ".py",
   "mimetype": "text/x-python",
   "name": "python",
   "nbconvert_exporter": "python",
   "pygments_lexer": "ipython3",
   "version": "3.7.3"
  }
 },
 "nbformat": 4,
 "nbformat_minor": 2
}
