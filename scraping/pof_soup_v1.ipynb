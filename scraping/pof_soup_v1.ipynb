{
 "cells": [
  {
   "cell_type": "code",
   "execution_count": 1,
   "metadata": {},
   "outputs": [],
   "source": [
    "from bs4 import BeautifulSoup as bs\n",
    "from lxml import html\n",
    "import requests\n",
    "import pymongo\n",
    "from splinter import Browser\n",
    "import time\n",
    "import pandas as pd\n",
    "import numpy as np\n"
   ]
  },
  {
   "cell_type": "markdown",
   "metadata": {},
   "source": [
    "## initialize browser and login"
   ]
  },
  {
   "cell_type": "code",
   "execution_count": 2,
   "metadata": {},
   "outputs": [],
   "source": [
    "# initialize browser\n",
    "executable_path = {\"executable_path\": \"chromedriver.exe\"}\n",
    "browser = Browser(\"chrome\", **executable_path, headless=False)"
   ]
  },
  {
   "cell_type": "markdown",
   "metadata": {},
   "source": [
    "### insert profile_id # to search HERE"
   ]
  },
  {
   "cell_type": "code",
   "execution_count": 3,
   "metadata": {},
   "outputs": [],
   "source": [
    "#define login url (need to add username and password) \n",
    "#define site to visit after being logged in\n",
    "pof_login_url = 'https://login.pof.com'\n",
    "\n",
    "# update with new profile id here\n",
    "pof_url = 'https://www.pof.com/viewprofile.aspx?profile_id=76643805'"
   ]
  },
  {
   "cell_type": "markdown",
   "metadata": {},
   "source": [
    "### input login credentials HERE"
   ]
  },
  {
   "cell_type": "code",
   "execution_count": 4,
   "metadata": {},
   "outputs": [],
   "source": [
    "browser.visit(pof_login_url) #visit login page\n",
    "\n",
    "# add credentials\n",
    "browser.fill(\"username\", \"akela_1111\") \n",
    "browser.fill(\"password\", \"plentyoffish\")\n",
    "\n",
    "browser.click_link_by_id(\"logincontrol_submitbutton\") # click submit to enter credentials"
   ]
  },
  {
   "cell_type": "code",
   "execution_count": 5,
   "metadata": {},
   "outputs": [],
   "source": [
    "browser.visit(pof_url) # browse specified profile"
   ]
  },
  {
   "cell_type": "code",
   "execution_count": 6,
   "metadata": {},
   "outputs": [],
   "source": [
    "html = browser.html\n",
    "soup = bs(html, \"html.parser\")"
   ]
  },
  {
   "cell_type": "code",
   "execution_count": 7,
   "metadata": {},
   "outputs": [],
   "source": [
    "profile_dict = {}"
   ]
  },
  {
   "cell_type": "markdown",
   "metadata": {},
   "source": [
    "## username and headline"
   ]
  },
  {
   "cell_type": "code",
   "execution_count": 8,
   "metadata": {},
   "outputs": [
    {
     "name": "stdout",
     "output_type": "stream",
     "text": [
      "dxrdan\n",
      "Free spirit looking for another\n"
     ]
    }
   ],
   "source": [
    "# use bs and splinter to find username and headline\n",
    "user = soup.find(id = \"username\").text\n",
    "headline = soup.find(id = \"headline\").text\n",
    "\n",
    "print(user)\n",
    "print(headline)\n",
    "\n",
    "#add to dict\n",
    "profile_dict[\"username\"] = user\n",
    "profile_dict[\"headline\"] = headline"
   ]
  },
  {
   "cell_type": "markdown",
   "metadata": {},
   "source": [
    "## Info in profile table 1\n"
   ]
  },
  {
   "cell_type": "code",
   "execution_count": 9,
   "metadata": {},
   "outputs": [
    {
     "data": {
      "text/plain": [
       "['About',\n",
       " 'City',\n",
       " 'Details',\n",
       " 'Ethnicity',\n",
       " 'Intent',\n",
       " 'Education',\n",
       " 'Personality',\n",
       " 'Profession']"
      ]
     },
     "execution_count": 9,
     "metadata": {},
     "output_type": "execute_result"
    }
   ],
   "source": [
    "# use bs and splinter to find first table of profile information\n",
    "# this is done in parts\n",
    "# part 1: find header names for first profile table\n",
    "\n",
    "about_head = soup.find_all(\"div\", class_= \"profileheadtitle\")\n",
    "headers = []\n",
    "for info in about_head:\n",
    "    headers.append(info.text.replace(\"\\n\", \"\"))\n",
    "headers"
   ]
  },
  {
   "cell_type": "code",
   "execution_count": 10,
   "metadata": {},
   "outputs": [
    {
     "data": {
      "text/plain": [
       "4"
      ]
     },
     "execution_count": 10,
     "metadata": {},
     "output_type": "execute_result"
    }
   ],
   "source": [
    "# part 2: find first half of content (left side of table)\n",
    "about_content_1 = soup.find_all(\"div\", class_=\"profileheadcontent\")\n",
    "content = []\n",
    "for info in about_content_1:\n",
    "    content.append(info.text.replace(\"\\n\\n\", \"\").replace(\"\\n\", \" \"))\n",
    "len(content)"
   ]
  },
  {
   "cell_type": "code",
   "execution_count": 11,
   "metadata": {},
   "outputs": [
    {
     "data": {
      "text/plain": [
       "4"
      ]
     },
     "execution_count": 11,
     "metadata": {},
     "output_type": "execute_result"
    }
   ],
   "source": [
    "# part 3: find 2nd half of content (right side of table)\n",
    "\n",
    "about_content_2 = soup.find_all(\"div\", class_=\"profileheadcontent-narrow\")\n",
    "content_2 = []\n",
    "for info in about_content_2:\n",
    "    content_2.append(info.text.replace(\"\\n\\n\", \"\").replace(\"\\n\", \" \"))\n",
    "len(content_2)"
   ]
  },
  {
   "cell_type": "code",
   "execution_count": 12,
   "metadata": {},
   "outputs": [
    {
     "data": {
      "text/plain": [
       "array(['Smokes Occasionally with Average body type',\n",
       "       ' San marcos, Texas ',\n",
       "       '50 year old Male, 6\\' 0\" (183cm), Catholic', 'Caucasian, Gemini',\n",
       "       'dxrdan is looking for a relationship.', 'Bachelors Degree',\n",
       "       'Free Thinker', 'Legal Support'], dtype='<U42')"
      ]
     },
     "execution_count": 12,
     "metadata": {},
     "output_type": "execute_result"
    }
   ],
   "source": [
    "# part 4: combine both content into one list\n",
    "all_content = np.array([content, content_2])\n",
    "all_content_ordered = np.ravel(all_content, order = \"F\")\n",
    "all_content_ordered"
   ]
  },
  {
   "cell_type": "code",
   "execution_count": 13,
   "metadata": {},
   "outputs": [
    {
     "data": {
      "text/plain": [
       "{'About': 'Smokes Occasionally with Average body type',\n",
       " 'City': ' San marcos, Texas ',\n",
       " 'Details': '50 year old Male, 6\\' 0\" (183cm), Catholic',\n",
       " 'Ethnicity': 'Caucasian, Gemini',\n",
       " 'Intent': 'dxrdan is looking for a relationship.',\n",
       " 'Education': 'Bachelors Degree',\n",
       " 'Personality': 'Free Thinker',\n",
       " 'Profession': 'Legal Support'}"
      ]
     },
     "execution_count": 13,
     "metadata": {},
     "output_type": "execute_result"
    }
   ],
   "source": [
    "# define dictionary to hold data in the first profile table. keys = header/title, value = content\n",
    "\n",
    "profile_info_1 = dict(zip(headers, all_content_ordered))\n",
    "profile_info_1"
   ]
  },
  {
   "cell_type": "code",
   "execution_count": 14,
   "metadata": {},
   "outputs": [],
   "source": [
    "# add to dict\n",
    "profile_dict[\"profile_info_1\"] = profile_info_1"
   ]
  },
  {
   "cell_type": "markdown",
   "metadata": {},
   "source": [
    "## Info in profile table 2"
   ]
  },
  {
   "cell_type": "code",
   "execution_count": 15,
   "metadata": {},
   "outputs": [
    {
     "data": {
      "text/plain": [
       "['I am Seeking a',\n",
       " 'For',\n",
       " ' Needs Test',\n",
       " 'Chemistry',\n",
       " 'Do you drink?',\n",
       " 'Do you want children?',\n",
       " 'Marital Status',\n",
       " 'Do you do drugs?',\n",
       " 'Hair Color',\n",
       " 'Eye Color',\n",
       " 'Do you have a car?',\n",
       " 'Do you have children?',\n",
       " 'Longest Relationship',\n",
       " 'How ambitious are you?',\n",
       " 'Pets',\n",
       " 'Interests']"
      ]
     },
     "execution_count": 15,
     "metadata": {},
     "output_type": "execute_result"
    }
   ],
   "source": [
    "about_head_2 = soup.find_all(\"span\", class_=\"headline\")\n",
    "\n",
    "headers_2 = []\n",
    "for i in range(9, 25):\n",
    "    headers_2.append(about_head_2[i].text.replace(\"\\n\",\"\"))\n",
    "    \n",
    "headers_2"
   ]
  },
  {
   "cell_type": "code",
   "execution_count": 16,
   "metadata": {},
   "outputs": [
    {
     "data": {
      "text/plain": [
       "['Woman',\n",
       " 'Long Term',\n",
       " 'Not Completed',\n",
       " 'View his chemistry results',\n",
       " 'No',\n",
       " 'Undecided/Open',\n",
       " 'Single',\n",
       " 'No',\n",
       " 'Brown',\n",
       " 'Blue',\n",
       " 'Yes',\n",
       " 'No',\n",
       " 'Over 10 years',\n",
       " 'Somewhat Ambitious',\n",
       " 'No Pets']"
      ]
     },
     "execution_count": 16,
     "metadata": {},
     "output_type": "execute_result"
    }
   ],
   "source": [
    "about_content_3 = soup.find_all(\"table\")[1](\"span\", class_=\"txtGrey\")\n",
    "content_3 = []\n",
    "for info in about_content_3:\n",
    "    content_3.append(info.text.replace(\"\\n\", \"\"))\n",
    "content_3"
   ]
  },
  {
   "cell_type": "code",
   "execution_count": 17,
   "metadata": {},
   "outputs": [
    {
     "data": {
      "text/plain": [
       "{'I am Seeking a': 'Woman',\n",
       " 'For': 'Long Term',\n",
       " ' Needs Test': 'Not Completed',\n",
       " 'Chemistry': 'View his chemistry results',\n",
       " 'Do you drink?': 'No',\n",
       " 'Do you want children?': 'Undecided/Open',\n",
       " 'Marital Status': 'Single',\n",
       " 'Do you do drugs?': 'No',\n",
       " 'Hair Color': 'Brown',\n",
       " 'Eye Color': 'Blue',\n",
       " 'Do you have a car?': 'Yes',\n",
       " 'Do you have children?': 'No',\n",
       " 'Longest Relationship': 'Over 10 years',\n",
       " 'How ambitious are you?': 'Somewhat Ambitious',\n",
       " 'Pets': 'No Pets'}"
      ]
     },
     "execution_count": 17,
     "metadata": {},
     "output_type": "execute_result"
    }
   ],
   "source": [
    "profile_info_2 = dict(zip(headers_2, content_3))\n",
    "profile_info_2"
   ]
  },
  {
   "cell_type": "code",
   "execution_count": 18,
   "metadata": {},
   "outputs": [],
   "source": [
    "# add to dict\n",
    "profile_dict[\"profile_info_2\"] = profile_info_2"
   ]
  },
  {
   "cell_type": "markdown",
   "metadata": {},
   "source": [
    "## Interests"
   ]
  },
  {
   "cell_type": "code",
   "execution_count": 19,
   "metadata": {},
   "outputs": [
    {
     "data": {
      "text/plain": [
       "['Wildlife', 'Philosophy', 'Firearms']"
      ]
     },
     "execution_count": 19,
     "metadata": {},
     "output_type": "execute_result"
    }
   ],
   "source": [
    "# interests\n",
    "try:\n",
    "    interests = soup.find(id=\"interests\").text.split(\"\\n\")[1:4]\n",
    "except: \n",
    "    interests = \"None\"\n",
    "    print(\"No interests were entered\")\n",
    "\n",
    "interests"
   ]
  },
  {
   "cell_type": "code",
   "execution_count": 20,
   "metadata": {},
   "outputs": [],
   "source": [
    "# add to dict\n",
    "profile_dict[\"interests\"] = interests"
   ]
  },
  {
   "cell_type": "markdown",
   "metadata": {},
   "source": [
    "## About Me"
   ]
  },
  {
   "cell_type": "code",
   "execution_count": 21,
   "metadata": {},
   "outputs": [
    {
     "data": {
      "text/plain": [
       "['Live',\n",
       " 'music,',\n",
       " 'great',\n",
       " 'restaurants,',\n",
       " 'selective',\n",
       " 'movies,',\n",
       " 'long',\n",
       " 'weekend',\n",
       " 'adventures']"
      ]
     },
     "execution_count": 21,
     "metadata": {},
     "output_type": "execute_result"
    }
   ],
   "source": [
    "about_me = soup.find(id=\"description\").text.replace(\"\\n\", \"\")\n",
    "about_me_split = about_me.split(\" \")\n",
    "about_me_split\n"
   ]
  },
  {
   "cell_type": "code",
   "execution_count": 22,
   "metadata": {},
   "outputs": [],
   "source": [
    "profile_dict[\"about_me_text\"] = about_me\n",
    "profile_dict[\"about_me_split\"] = about_me_split"
   ]
  },
  {
   "cell_type": "code",
   "execution_count": 23,
   "metadata": {},
   "outputs": [],
   "source": [
    "#pd.read_html(pof_url) #403 error - Forbidden???"
   ]
  },
  {
   "cell_type": "markdown",
   "metadata": {},
   "source": [
    "## dictionary with data of profile_1"
   ]
  },
  {
   "cell_type": "code",
   "execution_count": 24,
   "metadata": {},
   "outputs": [
    {
     "data": {
      "text/plain": [
       "{'username': 'dxrdan',\n",
       " 'headline': 'Free spirit looking for another',\n",
       " 'profile_info_1': {'About': 'Smokes Occasionally with Average body type',\n",
       "  'City': ' San marcos, Texas ',\n",
       "  'Details': '50 year old Male, 6\\' 0\" (183cm), Catholic',\n",
       "  'Ethnicity': 'Caucasian, Gemini',\n",
       "  'Intent': 'dxrdan is looking for a relationship.',\n",
       "  'Education': 'Bachelors Degree',\n",
       "  'Personality': 'Free Thinker',\n",
       "  'Profession': 'Legal Support'},\n",
       " 'profile_info_2': {'I am Seeking a': 'Woman',\n",
       "  'For': 'Long Term',\n",
       "  ' Needs Test': 'Not Completed',\n",
       "  'Chemistry': 'View his chemistry results',\n",
       "  'Do you drink?': 'No',\n",
       "  'Do you want children?': 'Undecided/Open',\n",
       "  'Marital Status': 'Single',\n",
       "  'Do you do drugs?': 'No',\n",
       "  'Hair Color': 'Brown',\n",
       "  'Eye Color': 'Blue',\n",
       "  'Do you have a car?': 'Yes',\n",
       "  'Do you have children?': 'No',\n",
       "  'Longest Relationship': 'Over 10 years',\n",
       "  'How ambitious are you?': 'Somewhat Ambitious',\n",
       "  'Pets': 'No Pets'},\n",
       " 'interests': ['Wildlife', 'Philosophy', 'Firearms'],\n",
       " 'about_me_text': 'Live music, great restaurants, selective movies, long weekend adventures',\n",
       " 'about_me_split': ['Live',\n",
       "  'music,',\n",
       "  'great',\n",
       "  'restaurants,',\n",
       "  'selective',\n",
       "  'movies,',\n",
       "  'long',\n",
       "  'weekend',\n",
       "  'adventures']}"
      ]
     },
     "execution_count": 24,
     "metadata": {},
     "output_type": "execute_result"
    }
   ],
   "source": [
    "profile_dict"
   ]
  },
  {
   "cell_type": "code",
   "execution_count": null,
   "metadata": {},
   "outputs": [],
   "source": []
  }
 ],
 "metadata": {
  "kernelspec": {
   "display_name": "Python 3",
   "language": "python",
   "name": "python3"
  },
  "language_info": {
   "codemirror_mode": {
    "name": "ipython",
    "version": 3
   },
   "file_extension": ".py",
   "mimetype": "text/x-python",
   "name": "python",
   "nbconvert_exporter": "python",
   "pygments_lexer": "ipython3",
   "version": "3.7.3"
  }
 },
 "nbformat": 4,
 "nbformat_minor": 2
}
